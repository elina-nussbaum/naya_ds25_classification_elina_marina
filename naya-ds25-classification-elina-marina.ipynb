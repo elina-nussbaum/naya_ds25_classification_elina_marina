{
 "cells": [
  {
   "cell_type": "markdown",
   "id": "13f81814",
   "metadata": {
    "papermill": {
     "duration": 0.003115,
     "end_time": "2025-06-08T19:32:57.609321",
     "exception": false,
     "start_time": "2025-06-08T19:32:57.606206",
     "status": "completed"
    },
    "tags": []
   },
   "source": [
    "# Telco Customer Churn Classification Project"
   ]
  },
  {
   "cell_type": "markdown",
   "id": "63edfdbd",
   "metadata": {
    "papermill": {
     "duration": 0.002103,
     "end_time": "2025-06-08T19:32:57.614374",
     "exception": false,
     "start_time": "2025-06-08T19:32:57.612271",
     "status": "completed"
    },
    "tags": []
   },
   "source": [
    "## The Problem"
   ]
  },
  {
   "cell_type": "markdown",
   "id": "8a6394b4",
   "metadata": {
    "papermill": {
     "duration": 0.002048,
     "end_time": "2025-06-08T19:32:57.618818",
     "exception": false,
     "start_time": "2025-06-08T19:32:57.616770",
     "status": "completed"
    },
    "tags": []
   },
   "source": [
    "### Objective: Predict whether a customer will churn (Yes/No) based on their demographics, account information, and usage behavior."
   ]
  },
  {
   "cell_type": "markdown",
   "id": "b234618a",
   "metadata": {
    "papermill": {
     "duration": 0.002035,
     "end_time": "2025-06-08T19:32:57.623147",
     "exception": false,
     "start_time": "2025-06-08T19:32:57.621112",
     "status": "completed"
    },
    "tags": []
   },
   "source": [
    "## The Data"
   ]
  },
  {
   "cell_type": "markdown",
   "id": "71e09dfb",
   "metadata": {
    "papermill": {
     "duration": 0.00196,
     "end_time": "2025-06-08T19:32:57.627421",
     "exception": false,
     "start_time": "2025-06-08T19:32:57.625461",
     "status": "completed"
    },
    "tags": []
   },
   "source": [
    "### Dataset: https://www.kaggle.com/blastchar/telco-customer-churn¶\n",
    "### Target variable: 'Churn'"
   ]
  },
  {
   "cell_type": "code",
   "execution_count": 1,
   "id": "e313aa0b",
   "metadata": {
    "_cell_guid": "b1076dfc-b9ad-4769-8c92-a6c4dae69d19",
    "_uuid": "8f2839f25d086af736a60e9eeb907d3b93b6e0e5",
    "execution": {
     "iopub.execute_input": "2025-06-08T19:32:57.633742Z",
     "iopub.status.busy": "2025-06-08T19:32:57.633311Z",
     "iopub.status.idle": "2025-06-08T19:33:03.235393Z",
     "shell.execute_reply": "2025-06-08T19:33:03.234346Z"
    },
    "papermill": {
     "duration": 5.607996,
     "end_time": "2025-06-08T19:33:03.237614",
     "exception": false,
     "start_time": "2025-06-08T19:32:57.629618",
     "status": "completed"
    },
    "tags": []
   },
   "outputs": [],
   "source": [
    "import os\n",
    "\n",
    "import pandas as pd\n",
    "import numpy as np\n",
    "import seaborn as sns\n",
    "import matplotlib.pyplot as plt\n",
    "from sklearn.model_selection import train_test_split\n",
    "from sklearn.preprocessing import StandardScaler, OneHotEncoder\n",
    "from sklearn.compose import ColumnTransformer\n",
    "from sklearn.pipeline import Pipeline\n",
    "from sklearn.impute import SimpleImputer\n",
    "from sklearn.ensemble import RandomForestClassifier\n",
    "from sklearn.linear_model import LogisticRegression\n",
    "from sklearn.metrics import classification_report, confusion_matrix"
   ]
  },
  {
   "cell_type": "code",
   "execution_count": 2,
   "id": "c64191a4",
   "metadata": {
    "execution": {
     "iopub.execute_input": "2025-06-08T19:33:03.245941Z",
     "iopub.status.busy": "2025-06-08T19:33:03.245349Z",
     "iopub.status.idle": "2025-06-08T19:33:03.351873Z",
     "shell.execute_reply": "2025-06-08T19:33:03.350165Z"
    },
    "papermill": {
     "duration": 0.11275,
     "end_time": "2025-06-08T19:33:03.353864",
     "exception": false,
     "start_time": "2025-06-08T19:33:03.241114",
     "status": "completed"
    },
    "tags": []
   },
   "outputs": [
    {
     "name": "stdout",
     "output_type": "stream",
     "text": [
      "['WA_Fn-UseC_-Telco-Customer-Churn.csv']\n",
      "   customerID  gender  SeniorCitizen Partner Dependents  tenure PhoneService  \\\n",
      "0  7590-VHVEG  Female              0     Yes         No       1           No   \n",
      "1  5575-GNVDE    Male              0      No         No      34          Yes   \n",
      "2  3668-QPYBK    Male              0      No         No       2          Yes   \n",
      "3  7795-CFOCW    Male              0      No         No      45           No   \n",
      "4  9237-HQITU  Female              0      No         No       2          Yes   \n",
      "\n",
      "      MultipleLines InternetService OnlineSecurity  ... DeviceProtection  \\\n",
      "0  No phone service             DSL             No  ...               No   \n",
      "1                No             DSL            Yes  ...              Yes   \n",
      "2                No             DSL            Yes  ...               No   \n",
      "3  No phone service             DSL            Yes  ...              Yes   \n",
      "4                No     Fiber optic             No  ...               No   \n",
      "\n",
      "  TechSupport StreamingTV StreamingMovies        Contract PaperlessBilling  \\\n",
      "0          No          No              No  Month-to-month              Yes   \n",
      "1          No          No              No        One year               No   \n",
      "2          No          No              No  Month-to-month              Yes   \n",
      "3         Yes          No              No        One year               No   \n",
      "4          No          No              No  Month-to-month              Yes   \n",
      "\n",
      "               PaymentMethod MonthlyCharges  TotalCharges Churn  \n",
      "0           Electronic check          29.85         29.85    No  \n",
      "1               Mailed check          56.95        1889.5    No  \n",
      "2               Mailed check          53.85        108.15   Yes  \n",
      "3  Bank transfer (automatic)          42.30       1840.75    No  \n",
      "4           Electronic check          70.70        151.65   Yes  \n",
      "\n",
      "[5 rows x 21 columns]\n"
     ]
    }
   ],
   "source": [
    "# Load dataset\n",
    "print(os.listdir('/kaggle/input/telco-customer-churn/'))\n",
    "\n",
    "dataset_path = \"/kaggle/input/telco-customer-churn/WA_Fn-UseC_-Telco-Customer-Churn.csv\"\n",
    "if not os.path.exists(dataset_path):\n",
    "    raise FileNotFoundError(f\"File not found at {dataset_path}. Please ensure the dataset is correctly attached.\") \n",
    "    \n",
    "df = pd.read_csv(dataset_path)\n",
    "\n",
    "# Preview data\n",
    "print(df.head())"
   ]
  },
  {
   "cell_type": "markdown",
   "id": "df956585",
   "metadata": {
    "papermill": {
     "duration": 0.002329,
     "end_time": "2025-06-08T19:33:03.359079",
     "exception": false,
     "start_time": "2025-06-08T19:33:03.356750",
     "status": "completed"
    },
    "tags": []
   },
   "source": [
    "## The Features"
   ]
  },
  {
   "cell_type": "code",
   "execution_count": 3,
   "id": "3996ce4d",
   "metadata": {
    "execution": {
     "iopub.execute_input": "2025-06-08T19:33:03.367795Z",
     "iopub.status.busy": "2025-06-08T19:33:03.366671Z",
     "iopub.status.idle": "2025-06-08T19:33:03.390037Z",
     "shell.execute_reply": "2025-06-08T19:33:03.388673Z"
    },
    "papermill": {
     "duration": 0.030155,
     "end_time": "2025-06-08T19:33:03.392552",
     "exception": false,
     "start_time": "2025-06-08T19:33:03.362397",
     "status": "completed"
    },
    "tags": []
   },
   "outputs": [],
   "source": [
    "# Identify numerical and categorical features\n",
    "numerical_features = ['tenure', 'MonthlyCharges', 'TotalCharges']\n",
    "categorical_features = [\n",
    "    'gender', 'SeniorCitizen', 'Partner', 'Dependents', 'PhoneService',\n",
    "    'MultipleLines', 'InternetService', 'OnlineSecurity', 'OnlineBackup',\n",
    "    'DeviceProtection', 'TechSupport', 'StreamingTV', 'StreamingMovies',\n",
    "    'Contract', 'PaperlessBilling', 'PaymentMethod'\n",
    "]\n",
    "\n",
    "# Clean TotalCharges (convert to numeric)\n",
    "df['TotalCharges'] = pd.to_numeric(df['TotalCharges'], errors='coerce')\n",
    "\n",
    "# Drop rows with missing target\n",
    "df = df.dropna(subset=['Churn'])\n",
    "\n",
    "# Define preprocessing steps\n",
    "numeric_transformer = Pipeline(steps=[\n",
    "    ('imputer', SimpleImputer(strategy='median')),\n",
    "    ('scaler', StandardScaler())\n",
    "])\n",
    "\n",
    "categorical_transformer = Pipeline(steps=[\n",
    "    ('imputer', SimpleImputer(strategy='most_frequent')),\n",
    "    ('encoder', OneHotEncoder(handle_unknown='ignore'))\n",
    "])\n",
    "\n",
    "preprocessor = ColumnTransformer(transformers=[\n",
    "    ('num', numeric_transformer, numerical_features),\n",
    "    ('cat', categorical_transformer, categorical_features)\n",
    "])"
   ]
  },
  {
   "cell_type": "markdown",
   "id": "e0609b53",
   "metadata": {
    "papermill": {
     "duration": 0.002364,
     "end_time": "2025-06-08T19:33:03.397841",
     "exception": false,
     "start_time": "2025-06-08T19:33:03.395477",
     "status": "completed"
    },
    "tags": []
   },
   "source": [
    "## The Models"
   ]
  },
  {
   "cell_type": "code",
   "execution_count": 4,
   "id": "10c39e35",
   "metadata": {
    "execution": {
     "iopub.execute_input": "2025-06-08T19:33:03.405248Z",
     "iopub.status.busy": "2025-06-08T19:33:03.404944Z",
     "iopub.status.idle": "2025-06-08T19:33:04.699709Z",
     "shell.execute_reply": "2025-06-08T19:33:04.696494Z"
    },
    "papermill": {
     "duration": 1.301924,
     "end_time": "2025-06-08T19:33:04.702634",
     "exception": false,
     "start_time": "2025-06-08T19:33:03.400710",
     "status": "completed"
    },
    "tags": []
   },
   "outputs": [
    {
     "name": "stdout",
     "output_type": "stream",
     "text": [
      "Classification Report:\n",
      "               precision    recall  f1-score   support\n",
      "\n",
      "           0       0.82      0.90      0.86      1036\n",
      "           1       0.63      0.46      0.53       373\n",
      "\n",
      "    accuracy                           0.79      1409\n",
      "   macro avg       0.73      0.68      0.70      1409\n",
      "weighted avg       0.77      0.79      0.77      1409\n",
      "\n",
      "Confusion Matrix:\n",
      " [[936 100]\n",
      " [201 172]]\n",
      "\n",
      "Logistic Regression Report:\n",
      "               precision    recall  f1-score   support\n",
      "\n",
      "           0       0.86      0.90      0.88      1036\n",
      "           1       0.69      0.60      0.64       373\n",
      "\n",
      "    accuracy                           0.82      1409\n",
      "   macro avg       0.77      0.75      0.76      1409\n",
      "weighted avg       0.82      0.82      0.82      1409\n",
      "\n"
     ]
    }
   ],
   "source": [
    "# Define full pipeline with a model (RandomForest)\n",
    "clf = Pipeline(steps=[\n",
    "    ('preprocessor', preprocessor),\n",
    "    ('classifier', RandomForestClassifier(n_estimators=100, random_state=42))\n",
    "])\n",
    "\n",
    "# Split data\n",
    "X = df[numerical_features + categorical_features]\n",
    "y = df['Churn'].map({'No': 0, 'Yes': 1})\n",
    "\n",
    "X_train, X_test, y_train, y_test = train_test_split(X, y, test_size=0.2, random_state=42)\n",
    "\n",
    "# Train the model\n",
    "clf.fit(X_train, y_train)\n",
    "\n",
    "# Evaluate\n",
    "y_pred = clf.predict(X_test)\n",
    "print(\"Classification Report:\\n\", classification_report(y_test, y_pred))\n",
    "print(\"Confusion Matrix:\\n\", confusion_matrix(y_test, y_pred))\n",
    "\n",
    "# Optional: Try logistic regression\n",
    "clf_lr = Pipeline(steps=[\n",
    "    ('preprocessor', preprocessor),\n",
    "    ('classifier', LogisticRegression(max_iter=1000))\n",
    "])\n",
    "clf_lr.fit(X_train, y_train)\n",
    "y_pred_lr = clf_lr.predict(X_test)\n",
    "print(\"\\nLogistic Regression Report:\\n\", classification_report(y_test, y_pred_lr))"
   ]
  }
 ],
 "metadata": {
  "kaggle": {
   "accelerator": "none",
   "dataSources": [
    {
     "datasetId": 13996,
     "sourceId": 18858,
     "sourceType": "datasetVersion"
    }
   ],
   "dockerImageVersionId": 31040,
   "isGpuEnabled": false,
   "isInternetEnabled": false,
   "language": "python",
   "sourceType": "notebook"
  },
  "kernelspec": {
   "display_name": "Python 3",
   "language": "python",
   "name": "python3"
  },
  "language_info": {
   "codemirror_mode": {
    "name": "ipython",
    "version": 3
   },
   "file_extension": ".py",
   "mimetype": "text/x-python",
   "name": "python",
   "nbconvert_exporter": "python",
   "pygments_lexer": "ipython3",
   "version": "3.11.11"
  },
  "papermill": {
   "default_parameters": {},
   "duration": 13.346035,
   "end_time": "2025-06-08T19:33:05.532401",
   "environment_variables": {},
   "exception": null,
   "input_path": "__notebook__.ipynb",
   "output_path": "__notebook__.ipynb",
   "parameters": {},
   "start_time": "2025-06-08T19:32:52.186366",
   "version": "2.6.0"
  }
 },
 "nbformat": 4,
 "nbformat_minor": 5
}
